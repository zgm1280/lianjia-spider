{
 "cells": [
  {
   "cell_type": "markdown",
   "metadata": {},
   "source": [
    "# 基于链家二手房的Python爬虫与数据分析及可视化"
   ]
  },
  {
   "cell_type": "markdown",
   "metadata": {},
   "source": [
    "##  1. 项目内容\n",
    "\n",
    "**项目来源：本项目为Python课程结课作业**\n",
    " \n",
    "**项目名称：基于链家二手房的Python爬虫与数据分析及可视化**\n",
    "\n",
    "**基本内容：**\n",
    "\n",
    "        ① 本项目为Python爬虫，包括在线数据解析、数据爬取、数据预处理、数据保存，读取本地数据、进行数据分析及可视化。\n",
    "\n",
    "        ② 通过编写本程序，可以对课程所学内容有更深刻的理解，增加实战经验。\n",
    "\n",
    "        ③ 通过数据分析及可视化，对数据信息有个全局的掌握和了解，便于做出决策。\n",
    "\n",
    "##  2. 数据来源\n",
    "\n",
    "**数据来源：数据基于链家网二手房的信息**\n",
    "\n",
    "**数据长度：每个城市的链家网二手房页面，每页展示30条房屋信息，底部页数共有100页，因此最大长度为3000。**\n",
    "\n",
    "**数据保存：爬虫分为爬取网页链接和房屋信息，因此共产生两个文件。**\n",
    "\n",
    "        ① 一个为 城市前缀_links.xlsx 链接文件\n",
    "        \n",
    "        ② 一个为 城市前缀_results.xlsx 结果文件\n",
    "        \n",
    "        ③ 以上两个均为Excel文件（.xlsx）\n",
    "        \n",
    "**自带数据：本程序测试时已爬取了 北京 的二手房信息，在当前目录，文件名为 bj_links.xlsx、bj_results.xlsx。数据集长度为3000。**\n",
    "\n",
    "**注意事项：**\n",
    "\n",
    " - **当指定城市为 北京 时，爬取过程会直接略过，显示文件已存在，可直接进行分析过程。**\n",
    " \n",
    " - **爬取新的城市时，如果出现类似于 pass data 的错误，主要原因是个别房屋的信息字段长度不一致，或多或少。可在oh_info 函数中修改。**\n",
    " \n",
    " - **爬取过程中可能会出现403情况，解决办法是增加 time.sleep() 时间。但会因此而增加总体爬取时间。**\n",
    " \n",
    " - **也许还有其他未知 Bug。**\n",
    "\n",
    "##  3. 实现功能\n",
    "\n",
    "**函数：本程序共 6 个函数**\n",
    "\n",
    "    ① file_check ：检查文件是否存在，如果存在，返回True，否则返回False。\n",
    "\n",
    "    ② get_proxy_ip ：获取代理ip，因爬取时间较长，采用代理ip来保证程序正常运行。返回ip列表。\n",
    "\n",
    "    ③ op_title_link ：返回一页的二手房标题和链接。长度为30。返回格式为列表。\n",
    "\n",
    "    ④ oh_info ：获取一套房子的所有信息。返回列表。长度为30。\n",
    "\n",
    "    ⑤ t_file ：将数据写入DataFrame，并保存到Excel文件。\n",
    "\n",
    "    ⑥ save ：爬取信息主函数。返回全部数据，用 t_file 函数将其保存。\n",
    "\n",
    "**功能：**\n",
    "\n",
    "    ① 指定城市\n",
    "    ② 指定页数\n",
    "    ③ 设置爬取速度\n",
    "    ④ 在线获取代理IP\n",
    "    ⑤ 在线爬取链家二手房信息\n",
    "    ⑥ 实现交互图表——地图可视化（Echarts）\n",
    "    ⑦ 分词，生成词云图\n",
    "    ⑧ 普通图表 + 交互图表（Echarts）\n",
    "    \n",
    "##  4. 运行环境\n",
    "\n",
    "**系统版本：Windows 10 x64 1809**\n",
    "\n",
    "**Python：Python 3.7**\n",
    "\n",
    "**IDE：Pycharm & Jupyter notebook**\n",
    "\n",
    "**所用库：requests、re、BeautifulSoup、numpy、pandas、matplotlib、seaborn、jieba、wordcloud、imageio、time、os、random**\n",
    "\n",
    "##  5. 关于\n",
    "\n",
    "**姓名：左光明**\n",
    "\n",
    "**学号：22017050615**\n",
    "\n",
    "**专业：2017级 人口学**\n",
    "\n",
    "**学院：劳动经济学院**\n",
    "\n",
    "**邮箱：heykeener@163.com**"
   ]
  },
  {
   "cell_type": "markdown",
   "metadata": {},
   "source": [
    "**程序开始**"
   ]
  },
  {
   "cell_type": "code",
   "execution_count": 1,
   "metadata": {},
   "outputs": [],
   "source": [
    "# -*- coding: utf-8 -*- \n",
    "import requests\n",
    "import re\n",
    "from bs4 import BeautifulSoup\n",
    "import numpy as np\n",
    "import pandas as pd\n",
    "import matplotlib.pyplot as plt\n",
    "import seaborn as sns\n",
    "import time\n",
    "import os\n",
    "import random\n",
    "import jieba\n",
    "import wordcloud\n",
    "import imageio\n",
    "# 导入以上所有库\n",
    "# 记录开始时间\n",
    "stime = time.time()\n",
    "# 解决中文字符显示问题及负号显示错误\n",
    "plt.rcParams['font.sans-serif'] = [\"Simhei\"]\n",
    "plt.rcParams['axes.unicode_minus'] = False"
   ]
  },
  {
   "cell_type": "code",
   "execution_count": 2,
   "metadata": {},
   "outputs": [],
   "source": [
    "# base_url: 二手房信息首页，换做其他地区应该同样可行。比如上海（https://sh.lianjia.com/ershoufang/）。\n",
    "# 设定地区，地区代码：北京->bj,上海->sh,天津->tj,重庆->cq,广州->gz,沈阳->sy,大连->dl ......\n",
    "# 城市：北京\n",
    "city = \"bj\"\n",
    "base_url = \"https://\" + city + \".lianjia.com/ershoufang/\"\n",
    "# 设定页数。最大 100 页。默认为 5 页。\n",
    "page_max = 5\n",
    "pages = [\"https://\" + city + \".lianjia.com/ershoufang/pg\"+str(i) for i in range(1, page_max + 1)]\n",
    "# 间隔时间，单位：秒。此选项为随机生成一个 1 到 sec 秒的时间，缓解爬取速度。数值越大，爬取时间越长。\n",
    "sec = 3\n",
    "# pages"
   ]
  },
  {
   "cell_type": "code",
   "execution_count": 3,
   "metadata": {},
   "outputs": [],
   "source": [
    "# 函数：检测文件是否存在，如果存在，返回True，否则返回False。参数为包含路径的文件名。\n",
    "def file_check(filename):\n",
    "    if os.path.exists(filename):\n",
    "        return True\n",
    "    else:\n",
    "        return False\n"
   ]
  },
  {
   "cell_type": "code",
   "execution_count": 4,
   "metadata": {},
   "outputs": [],
   "source": [
    "# 为了防止长时间爬取导致403，所以准备多个User-Agent和代理ip。但是还是有一定可能会被403。因此实际执行的时候间隔为随机1-3秒。\n",
    "# User-Agent\n",
    "header = [\n",
    "    \"Mozilla/5.0 (Windows NT 10.0; Win64; x64) AppleWebKit/537.36 (KHTML, like Gecko) Chrome/71.0.3578.98 Safari/537.36\",\n",
    "    \"Mozilla/5.0 (Windows NT 6.3; WOW64) AppleWebKit/537.36 (KHTML, like Gecko) Chrome/39.0.2171.95 Safari/537.36\",\n",
    "    \"Mozilla/5.0 (Macintosh; Intel Mac OS X 10_9_2) AppleWebKit/537.36 (KHTML, like Gecko) Chrome/35.0.1916.153 Safari/537.36\",\n",
    "    \"Mozilla/5.0 (Windows NT 6.1; WOW64; rv:30.0) Gecko/20100101 Firefox/30.0\",\n",
    "    \"Mozilla/5.0 (Macintosh; Intel Mac OS X 10_9_2) AppleWebKit/537.75.14 (KHTML, like Gecko) Version/7.0.3 Safari/537.75.14\",\n",
    "    \"Mozilla/5.0 (compatible; MSIE 10.0; Windows NT 6.2; Win64; x64; Trident/6.0)\",\n",
    "    'Mozilla/5.0 (Windows; U; Windows NT 5.1; it; rv:1.8.1.11) Gecko/20071127 Firefox/2.0.0.11',\n",
    "    'Opera/9.25 (Windows NT 5.1; U; en)',\n",
    "    'Mozilla/4.0 (compatible; MSIE 6.0; Windows NT 5.1; SV1; .NET CLR 1.1.4322; .NET CLR 2.0.50727)',\n",
    "    'Mozilla/5.0 (compatible; Konqueror/3.5; Linux) KHTML/3.5.5 (like Gecko) (Kubuntu)',\n",
    "    'Mozilla/5.0 (X11; U; Linux i686; en-US; rv:1.8.0.12) Gecko/20070731 Ubuntu/dapper-security Firefox/1.5.0.12',\n",
    "    'Lynx/2.8.5rel.1 libwww-FM/2.14 SSL-MM/1.4.1 GNUTLS/1.2.9',\n",
    "    \"Mozilla/5.0 (X11; Linux i686) AppleWebKit/535.7 (KHTML, like Gecko) Ubuntu/11.04 Chromium/16.0.912.77 Chrome/16.0.912.77 Safari/535.7\",\n",
    "    \"Mozilla/5.0 (X11; Ubuntu; Linux i686; rv:10.0) Gecko/20100101 Firefox/10.0\"\n",
    "]\n"
   ]
  },
  {
   "cell_type": "code",
   "execution_count": 5,
   "metadata": {},
   "outputs": [],
   "source": [
    "# 在线爬取代理IP。page为要爬取的页数。返回包含字典的列表。字典格式：{'HTTP': '101.231.50.154:8000'}，包括连接方式与IP和端口。\n",
    "def get_proxy_ip(page):\n",
    "    ipool = []\n",
    "    for i in range(1, page+1):\n",
    "        url = \"http://ip.jiangxianli.com/?page=\" + str(i)\n",
    "        headers = {\"User-Agent\":\"Mozilla/5.0 (Windows NT 10.0; Win64; x64) AppleWebKit/537.36 (KHTML, like Gecko) Chrome/71.0.3578.98 Safari/537.36\"}\n",
    "        html = requests.get(url,headers=headers)\n",
    "        # html.text\n",
    "        soup = BeautifulSoup(html.text, \"html.parser\")\n",
    "        table = soup.findAll(\"table\")\n",
    "        ls = []\n",
    "        # 解析 Table 表格\n",
    "        for i in table[0].findAll(\"tr\"):\n",
    "            for j in i.findAll(\"td\"):\n",
    "                ls.append(j)\n",
    "        # print(ls)\n",
    "        ip = []\n",
    "        port = []\n",
    "        method = []\n",
    "        for i in range(1, len(ls),10):\n",
    "            ip.append(ls[i])\n",
    "        for i in range(2, len(ls),10):\n",
    "            port.append(ls[i])\n",
    "        for i in range(4, len(ls),10):\n",
    "            method.append(ls[i])\n",
    "        \n",
    "        for i in range(len(ip)):\n",
    "            # 以字典形式写入列表\n",
    "            ipool.append({\"%s\"%method[i].text:\"%s\"%ip[i].text+\":\"+port[i].text})\n",
    "    return ipool\n"
   ]
  },
  {
   "cell_type": "code",
   "execution_count": 7,
   "metadata": {},
   "outputs": [
    {
     "name": "stdout",
     "output_type": "stream",
     "text": [
      "代理文件已存在，无需获取。\n"
     ]
    }
   ],
   "source": [
    "# 代理IP，来源于网络。\n",
    "# 读取本地代理ip文件：proxy.txt。如果不存在则直接在线爬取代理IP并保存。\n",
    "if file_check(\"./proxy.txt\"):\n",
    "    print(\"代理文件已存在，无需获取。\")\n",
    "    with open(\"./proxy.txt\",\"r\") as f:\n",
    "        ip = f.read()\n",
    "    f.close()\n",
    "    proxy = eval(ip)\n",
    "else:\n",
    "    print(\"正在获取代理IP......\")\n",
    "    ipool = get_proxy_ip(5)\n",
    "    with open(\"./proxy.txt\",\"w\") as f:\n",
    "        f.write(str(ipool))\n",
    "    f.close()\n",
    "    print(\"代理IP爬取完毕。\")\n",
    "    with open(\"./proxy.txt\",\"r\") as f:\n",
    "        ip = f.read()\n",
    "    f.close()\n",
    "    proxy = eval(ip)\n",
    "# proxy"
   ]
  },
  {
   "cell_type": "code",
   "execution_count": 8,
   "metadata": {},
   "outputs": [],
   "source": [
    "# 随机使用User-Agent和代理ip。每次随机从中选择一个。\n",
    "headers = {\"User-Agent\": random.choice(header)}\n",
    "proxys = {\"User-Agent\": random.choice(proxy)}\n"
   ]
  },
  {
   "cell_type": "code",
   "execution_count": 9,
   "metadata": {},
   "outputs": [],
   "source": [
    "def op_title_link(base_url, proxys):\n",
    "    \"\"\"\n",
    "    返回一页的二手房标题和链接。长度为30。每一页房屋数量为30个。\n",
    "    :return: 返回列表\n",
    "    \"\"\"\n",
    "    b_url = base_url\n",
    "    tl_list = []\n",
    "    d = requests.get(b_url, headers=headers, proxies=proxys)\n",
    "    soup = BeautifulSoup(d.text, \"html.parser\")\n",
    "    # 使用attrs属性是因为直接使用标签会多出非房屋信息，attrs比较精确\n",
    "    title = soup.find_all(attrs={\"class\": \"title\", \"data-el\": \"ershoufang\"})\n",
    "    for i in title:\n",
    "        tl_list.append([i['href'], i.text])\n",
    "\n",
    "    return tl_list\n"
   ]
  },
  {
   "cell_type": "code",
   "execution_count": 10,
   "metadata": {},
   "outputs": [],
   "source": [
    "def oh_info(b_url, headers, proxys):\n",
    "    \"\"\"\n",
    "    返回一套房子的所有信息，包括标题，价格信息，房屋基本信息，及交易信息等。\n",
    "    :return: 列表。长度为30。\n",
    "    \"\"\"\n",
    "    url = b_url\n",
    "    i = requests.get(url, headers=headers, proxies=proxys)\n",
    "    # 如果响应码为 200，说明正常返回信息。\n",
    "    if i.status_code == 200:\n",
    "        soup = BeautifulSoup(i.text, \"html.parser\")\n",
    "        house_info_lst = []\n",
    "        # 价格信息：总价，单价，单位\n",
    "        house_title = soup.find_all(\"h1\", \"main\")\n",
    "        h_title = re.findall('<h1.*>(.*?)</h1>', str(house_title[0]))\n",
    "        for i in h_title:\n",
    "            house_info_lst.append(i)\n",
    "        price = soup.find_all(\"div\", \"price\")\n",
    "        t_price = re.findall('<span class=\"total\">(.*?)</span>', str(price[0]))\n",
    "        t_price_unit = re.findall('<span class=\"unit\"><span>(.*?)</span></span>', str(price[0]))\n",
    "        unit_price = re.findall('<span class=\"unitPriceValue\">(.*?)<i>(.*?)</i></span>', str(price[0]))\n",
    "        house_price = [t_price, t_price_unit]\n",
    "        # 小区信息，地址信息\n",
    "        area_info = soup.find_all(\"div\", \"aroundInfo\")\n",
    "        # 小区名称\n",
    "        community_name = re.findall('<span class=\"label\">小区名称</span><a.*>(.*?)</a><a .*>地图</a>', str(area_info[0]))\n",
    "        # 小区地址1，2，3，4\n",
    "        area_address = re.findall('<span class=\"label\">所在区域</span><span class=\"info\"><a .*>(.*?)</a>.*<a .*>(.*?)</a>(.*?)</span><a .*>(.*?)</a>', str(area_info[0]))\n",
    "        for i in community_name:\n",
    "            house_info_lst.append(i)\n",
    "        for i in area_address[0]:\n",
    "            house_info_lst.append(i.strip())\n",
    "        for i in house_price:\n",
    "            for j in i:\n",
    "                house_info_lst.append(j)\n",
    "        for i in unit_price:\n",
    "            for j in i:\n",
    "                house_info_lst.append(j)\n",
    "        # 有的城市会抓取到举报链接，因此将其处理为空\n",
    "        house_info_lst[5] = \"\" if house_info_lst[5] == \"举报\" else house_info_lst[5]\n",
    "        # print(house_info_lst)\n",
    "        # 房屋信息\n",
    "        house_info = soup.find_all(\"div\", \"introContent\")\n",
    "        base_info = re.findall('<li><span class=\"label\">(.*?)</span>(.*?)</li>', str(house_info[0]))\n",
    "        trans_info = re.findall(\n",
    "            '<li>[\\s]*<span class=\"label\">(.*?)</span>[\\s]*<span.*>[\\s]*(.*?)[\\s]*</span>[\\s]*</li>',\n",
    "            str(house_info[0]))\n",
    "        base_info = dict(base_info)\n",
    "        # 此处是为了处理pass data 错误，如果出现错误在这里修改，将其删除。\n",
    "        base_info.pop(\"供暖方式\", \"tmperror\")\n",
    "        base_info.pop(\"用水类型\", \"tmperror\")\n",
    "        base_info.pop(\"用电类型\", \"tmperror\")\n",
    "        base_info.pop(\"燃气价格\", \"tmperror\")\n",
    "        for k, v in base_info.items():\n",
    "            house_info_lst.append(v)\n",
    "        for j in trans_info:\n",
    "            house_info_lst.append(j[1])\n",
    "        house_info_column_name = []\n",
    "        for k, v in base_info.items():\n",
    "            house_info_column_name.append(k)\n",
    "        for j in trans_info:\n",
    "            house_info_column_name.append(j[0])\n",
    "        # 将 建筑面积 字段 的 ㎡ 替换为空，便于将其转换为数值格式，方便计算。\n",
    "        house_info_lst[12] = house_info_lst[12].replace(\"㎡\", \"\")\n",
    "\n",
    "        for i in house_info_column_name:\n",
    "            # 此处是为了处理pass data 错误，如果出现错误在这里修改，将其添加进列表。\n",
    "            if i in [\"供暖方式\", \"用水类型\", \"用电类型\", \"燃气价格\"]:\n",
    "                house_info_column_name.remove(i)\n",
    "#         print(len(house_info_lst), house_info_lst) # 开启调试则取消注释，便于查看是哪一条记录出现错误，通常情况下，长度!=30，就会出现错误。\n",
    "        # 返回房屋信息列表，字段列表\n",
    "        return house_info_lst, house_info_column_name\n",
    "    else:\n",
    "        return False\n"
   ]
  },
  {
   "cell_type": "code",
   "execution_count": 11,
   "metadata": {},
   "outputs": [],
   "source": [
    "# 用来写入DataFrame并保存到Excel文件。\n",
    "def t_file(lsdd, filename, column):\n",
    "    \"\"\"\n",
    "    用来写入DataFrame并保存到Excel文件。\n",
    "    :param lsdd:所有房屋信息。\n",
    "    :param filename:文件名。\n",
    "    :param column:列名。\n",
    "    :return:File。\n",
    "    \"\"\"\n",
    "    df = pd.DataFrame(lsdd, columns=[\"标题\", \"小区名称\", \"地区\", \"地址1\", \"地址2\", \"地址3\", \"总价\", \"单位\", \"单价\", \"单位\"]+column)\n",
    "    # 将这三个字段转换为数值格式\n",
    "    df[[\"总价\", \"单价\", \"建筑面积\"]] = df[[\"总价\", \"单价\", \"建筑面积\"]].apply(pd.to_numeric)\n",
    "    df.to_excel(filename)\n",
    "    print(\"\\nFile \" + filename + \" Saved.\")\n"
   ]
  },
  {
   "cell_type": "code",
   "execution_count": 12,
   "metadata": {},
   "outputs": [],
   "source": [
    "# 爬取信息主函数。判断results.xlsx结果文件是否已经存在，如果存在则不执行，可直接进行分析。\n",
    "# results.xlsx结果文件如果不存在，则检查links.xlsx链接文件是否存在，\n",
    "# 如果存在则开始进行房屋信息爬取，如果不存在则先进行链接爬取并保存，再进行房屋信息爬取。\n",
    "def save(filename,sec):\n",
    "    \"\"\"\n",
    "    爬取信息主函数。判断results.xlsx文件是否已经存在，如果存在则不执行。\n",
    "    :param filename: 文件名\n",
    "    :param sec: 秒，执行间隔，随机1 - sec秒\n",
    "    :return:\n",
    "    \"\"\"\n",
    "    lsd = [] # 链接\n",
    "    lsdd = [] # 房屋信息\n",
    "    column = [] # 字段\n",
    "    if file_check(filename):\n",
    "        print(\"链接文件\" + filename + \"已存在，开始抓取房屋信息......\")\n",
    "        link = pd.read_excel(filename)\n",
    "        for i in range(0, len(link)):\n",
    "            lsd.append(link[\"链接\"][i])\n",
    "        print(\"Parsing House......\")\n",
    "        for j in range(0, len(lsd)):\n",
    "            print(\"\\rprocess : parsing house {0}/{1} ...\".format(j + 1, len(lsd)), end=\"\")\n",
    "            res = oh_info(lsd[j], headers, proxys)\n",
    "            lsdd.append(res[0])\n",
    "            column.append(res[1])\n",
    "            # 随机间隔\n",
    "            time.sleep(random.randint(1,sec))\n",
    "    else:\n",
    "        print(\"链接文件\" + filename + \"不存在，开始抓取链接信息......\")\n",
    "        for i in range(0, len(pages)):\n",
    "            print(\"\\rprocess : parsing page {0}/{1}\".format(i + 1, len(pages)), end=\"\")\n",
    "            lsd.extend(op_title_link(pages[i], proxys))\n",
    "        dfl = pd.DataFrame(lsd, columns=[\"链接\", \"标题\"])\n",
    "        dfl.to_excel(filename)\n",
    "        print(\"\\nFile\" + filename + \" saved.\")\n",
    "        print(\"Parsing House......\")\n",
    "        for j in range(0, len(lsd)):\n",
    "            print(\"\\rprocess : parsing house {0}/{1} ...\".format(j + 1, len(lsd)), end=\"\")\n",
    "            res = oh_info(lsd[j][0], headers, proxys)\n",
    "            lsdd.append(res[0])\n",
    "            column.append(res[1])\n",
    "            # 随机间隔\n",
    "            time.sleep(random.randint(1,sec))\n",
    "    return lsdd, column\n"
   ]
  },
  {
   "cell_type": "code",
   "execution_count": 14,
   "metadata": {},
   "outputs": [
    {
     "name": "stdout",
     "output_type": "stream",
     "text": [
      "结果文件 bj_results.xlsx 已存在，无需下载，可直接使用此文件进行分析。\n",
      "time：26.98258638381958\n"
     ]
    }
   ],
   "source": [
    "if file_check(\"./\" + city + \"_results.xlsx\"):\n",
    "    print(\"结果文件 \" + city + \"_results.xlsx\" + \" 已存在，无需下载，可直接使用此文件进行分析。\")\n",
    "else:\n",
    "    filename = \"./\" + city + \"_links.xlsx\"\n",
    "    lsdd = save(filename,sec)\n",
    "#     print(lsdd)\n",
    "#     for i in lsdd:\n",
    "#         for j in i:\n",
    "#             print(len(j), j)\n",
    "    t_file(lsdd[0], \"./\" + city + \"_results.xlsx\", lsdd[1][0])\n",
    "\n",
    "# 最多共100页，每页30个，总量3000个房屋。因使用代理，可能爬取时间较长。平均1-3秒一个，根据设定的sec确定。\n",
    "# 记录结束时间\n",
    "etime = time.time()\n",
    "# 记录爬取用时。（notebook里面会从一开始就记录，持续到最后。因此时间不准确。）\n",
    "print(\"time：\" + str(etime - stime))"
   ]
  },
  {
   "cell_type": "code",
   "execution_count": 15,
   "metadata": {},
   "outputs": [
    {
     "data": {
      "text/html": [
       "<div>\n",
       "<style scoped>\n",
       "    .dataframe tbody tr th:only-of-type {\n",
       "        vertical-align: middle;\n",
       "    }\n",
       "\n",
       "    .dataframe tbody tr th {\n",
       "        vertical-align: top;\n",
       "    }\n",
       "\n",
       "    .dataframe thead th {\n",
       "        text-align: right;\n",
       "    }\n",
       "</style>\n",
       "<table border=\"1\" class=\"dataframe\">\n",
       "  <thead>\n",
       "    <tr style=\"text-align: right;\">\n",
       "      <th></th>\n",
       "      <th>标题</th>\n",
       "      <th>小区名称</th>\n",
       "      <th>地区</th>\n",
       "      <th>地址1</th>\n",
       "      <th>地址2</th>\n",
       "      <th>地址3</th>\n",
       "      <th>总价</th>\n",
       "      <th>单位</th>\n",
       "      <th>单价</th>\n",
       "      <th>单位.1</th>\n",
       "      <th>...</th>\n",
       "      <th>配备电梯</th>\n",
       "      <th>产权年限</th>\n",
       "      <th>挂牌时间</th>\n",
       "      <th>交易权属</th>\n",
       "      <th>上次交易</th>\n",
       "      <th>房屋用途</th>\n",
       "      <th>房屋年限</th>\n",
       "      <th>产权所属</th>\n",
       "      <th>抵押信息</th>\n",
       "      <th>房本备件</th>\n",
       "    </tr>\n",
       "  </thead>\n",
       "  <tbody>\n",
       "    <tr>\n",
       "      <th>0</th>\n",
       "      <td>70年住宅 高楼层 正规两居室开发商精装 拎包入住</td>\n",
       "      <td>雅世合金公寓</td>\n",
       "      <td>海淀</td>\n",
       "      <td>田村</td>\n",
       "      <td>四至五环</td>\n",
       "      <td>NaN</td>\n",
       "      <td>820.0</td>\n",
       "      <td>万</td>\n",
       "      <td>90829</td>\n",
       "      <td>元/平米</td>\n",
       "      <td>...</td>\n",
       "      <td>有</td>\n",
       "      <td>70年</td>\n",
       "      <td>2018-12-11</td>\n",
       "      <td>商品房</td>\n",
       "      <td>2013-04-27</td>\n",
       "      <td>普通住宅</td>\n",
       "      <td>满五年</td>\n",
       "      <td>非共有</td>\n",
       "      <td>无抵押</td>\n",
       "      <td>已上传房本照片</td>\n",
       "    </tr>\n",
       "    <tr>\n",
       "      <th>1</th>\n",
       "      <td>北京西城月坛99年南北通透大两居，双阳台，采光无遮挡</td>\n",
       "      <td>月坛北街25号院</td>\n",
       "      <td>西城</td>\n",
       "      <td>月坛</td>\n",
       "      <td>二至三环</td>\n",
       "      <td>近9号线白堆子站</td>\n",
       "      <td>930.0</td>\n",
       "      <td>万</td>\n",
       "      <td>119692</td>\n",
       "      <td>元/平米</td>\n",
       "      <td>...</td>\n",
       "      <td>无</td>\n",
       "      <td>70年</td>\n",
       "      <td>2018-08-21</td>\n",
       "      <td>商品房</td>\n",
       "      <td>2013-09-09</td>\n",
       "      <td>普通住宅</td>\n",
       "      <td>满五年</td>\n",
       "      <td>非共有</td>\n",
       "      <td>无抵押</td>\n",
       "      <td>已上传房本照片</td>\n",
       "    </tr>\n",
       "    <tr>\n",
       "      <th>2</th>\n",
       "      <td>怡海花园四期一居  满五年唯一 楼层高 采光好</td>\n",
       "      <td>怡海花园富泽园</td>\n",
       "      <td>丰台</td>\n",
       "      <td>科技园区</td>\n",
       "      <td>三至四环</td>\n",
       "      <td>近9号线科怡路站</td>\n",
       "      <td>400.0</td>\n",
       "      <td>万</td>\n",
       "      <td>57054</td>\n",
       "      <td>元/平米</td>\n",
       "      <td>...</td>\n",
       "      <td>有</td>\n",
       "      <td>70年</td>\n",
       "      <td>2018-12-10</td>\n",
       "      <td>商品房</td>\n",
       "      <td>2008-04-22</td>\n",
       "      <td>普通住宅</td>\n",
       "      <td>满五年</td>\n",
       "      <td>非共有</td>\n",
       "      <td>有抵押 300万元 业主自还</td>\n",
       "      <td>已上传房本照片</td>\n",
       "    </tr>\n",
       "    <tr>\n",
       "      <th>3</th>\n",
       "      <td>新龙城不临街2居 只有契税 自住精装修 随时签约</td>\n",
       "      <td>新龙城</td>\n",
       "      <td>昌平</td>\n",
       "      <td>回龙观</td>\n",
       "      <td>五至六环</td>\n",
       "      <td>近13号线龙泽站</td>\n",
       "      <td>515.0</td>\n",
       "      <td>万</td>\n",
       "      <td>57001</td>\n",
       "      <td>元/平米</td>\n",
       "      <td>...</td>\n",
       "      <td>有</td>\n",
       "      <td>70年</td>\n",
       "      <td>2018-12-15</td>\n",
       "      <td>商品房</td>\n",
       "      <td>2009-04-17</td>\n",
       "      <td>普通住宅</td>\n",
       "      <td>满五年</td>\n",
       "      <td>共有</td>\n",
       "      <td>无抵押</td>\n",
       "      <td>已上传房本照片</td>\n",
       "    </tr>\n",
       "    <tr>\n",
       "      <th>4</th>\n",
       "      <td>房山 长阳全南向精致小巧两居  美好生活从现在开始</td>\n",
       "      <td>首开熙悦山澜庭</td>\n",
       "      <td>房山</td>\n",
       "      <td>长阳</td>\n",
       "      <td>五至六环</td>\n",
       "      <td>近房山线长阳站</td>\n",
       "      <td>313.0</td>\n",
       "      <td>万</td>\n",
       "      <td>44568</td>\n",
       "      <td>元/平米</td>\n",
       "      <td>...</td>\n",
       "      <td>有</td>\n",
       "      <td>70年</td>\n",
       "      <td>2018-12-16</td>\n",
       "      <td>商品房</td>\n",
       "      <td>2016-05-25</td>\n",
       "      <td>普通住宅</td>\n",
       "      <td>满两年</td>\n",
       "      <td>共有</td>\n",
       "      <td>无抵押</td>\n",
       "      <td>已上传房本照片</td>\n",
       "    </tr>\n",
       "  </tbody>\n",
       "</table>\n",
       "<p>5 rows × 31 columns</p>\n",
       "</div>"
      ],
      "text/plain": [
       "                           标题      小区名称  地区   地址1   地址2       地址3     总价 单位  \\\n",
       "0   70年住宅 高楼层 正规两居室开发商精装 拎包入住    雅世合金公寓  海淀    田村  四至五环       NaN  820.0  万   \n",
       "1  北京西城月坛99年南北通透大两居，双阳台，采光无遮挡  月坛北街25号院  西城    月坛  二至三环  近9号线白堆子站  930.0  万   \n",
       "2     怡海花园四期一居  满五年唯一 楼层高 采光好   怡海花园富泽园  丰台  科技园区  三至四环  近9号线科怡路站  400.0  万   \n",
       "3    新龙城不临街2居 只有契税 自住精装修 随时签约       新龙城  昌平   回龙观  五至六环  近13号线龙泽站  515.0  万   \n",
       "4   房山 长阳全南向精致小巧两居  美好生活从现在开始   首开熙悦山澜庭  房山    长阳  五至六环   近房山线长阳站  313.0  万   \n",
       "\n",
       "       单价  单位.1   ...    配备电梯 产权年限        挂牌时间 交易权属        上次交易  房屋用途 房屋年限  \\\n",
       "0   90829  元/平米   ...       有  70年  2018-12-11  商品房  2013-04-27  普通住宅  满五年   \n",
       "1  119692  元/平米   ...       无  70年  2018-08-21  商品房  2013-09-09  普通住宅  满五年   \n",
       "2   57054  元/平米   ...       有  70年  2018-12-10  商品房  2008-04-22  普通住宅  满五年   \n",
       "3   57001  元/平米   ...       有  70年  2018-12-15  商品房  2009-04-17  普通住宅  满五年   \n",
       "4   44568  元/平米   ...       有  70年  2018-12-16  商品房  2016-05-25  普通住宅  满两年   \n",
       "\n",
       "  产权所属            抵押信息     房本备件  \n",
       "0  非共有             无抵押  已上传房本照片  \n",
       "1  非共有             无抵押  已上传房本照片  \n",
       "2  非共有  有抵押 300万元 业主自还  已上传房本照片  \n",
       "3   共有             无抵押  已上传房本照片  \n",
       "4   共有             无抵押  已上传房本照片  \n",
       "\n",
       "[5 rows x 31 columns]"
      ]
     },
     "execution_count": 15,
     "metadata": {},
     "output_type": "execute_result"
    }
   ],
   "source": [
    "# 读入数据\n",
    "origin_data = pd.read_excel(\"./\" + city + \"_results.xlsx\")\n",
    "# 标题为空，则房屋已下架\n",
    "# 删除标题为空的行\n",
    "data = origin_data.dropna(subset=[\"标题\"])\n",
    "# notebook里面使用print会有些错乱，因此直接打印表格。\n",
    "data.head(5)\n"
   ]
  },
  {
   "cell_type": "markdown",
   "metadata": {},
   "source": [
    "**通过他们的标题，一定程度上可以看出房屋的特点，来看看他们的标题都是怎么形容的……**"
   ]
  },
  {
   "cell_type": "code",
   "execution_count": 17,
   "metadata": {},
   "outputs": [
    {
     "name": "stdout",
     "output_type": "stream",
     "text": [
      "正在生成词云图......\n"
     ]
    },
    {
     "name": "stderr",
     "output_type": "stream",
     "text": [
      "Building prefix dict from the default dictionary ...\n",
      "Loading model from cache C:\\Users\\zgm\\AppData\\Local\\Temp\\jieba.cache\n",
      "Loading model cost 1.992 seconds.\n",
      "Prefix dict has been built succesfully.\n"
     ]
    },
    {
     "name": "stdout",
     "output_type": "stream",
     "text": [
      "已保存。\n"
     ]
    }
   ],
   "source": [
    "words = \" \".join(data['标题'])\n",
    "word = []\n",
    "stopword = []\n",
    "print(\"正在生成词云图......\")\n",
    "mask = imageio.imread(\"./mask.jpg\")\n",
    "# 加载停用表，过滤无意义文字或词。\n",
    "with open(\"./stopword/停用表.txt\",\"r\") as f:\n",
    "    sw = f.readlines()\n",
    "for i in sw:\n",
    "    # 去除特殊字符\n",
    "    stopword.append(i.strip())\n",
    "# print(stopword)\n",
    "# 如果分词结果在停用表则略过。\n",
    "for i in jieba.lcut(words):\n",
    "    if i not in stopword:\n",
    "        word.append(i)\n",
    "wd = \" \".join(word)\n",
    "# 配置词云图，背景颜色、字体路径、蒙版等。如果要设置大小，可以加上：width=900,height=600,\n",
    "wc = wordcloud.WordCloud(background_color=\"white\",font_path=\"./font/msyh.ttf\",mask=mask)\n",
    "wc.generate(wd)\n",
    "# 保存图片\n",
    "wc.to_file(\"./word.jpg\")\n",
    "print(\"已保存。\")"
   ]
  },
  {
   "cell_type": "markdown",
   "metadata": {},
   "source": [
    "**显示词云图**\n",
    "![](./word.jpg)"
   ]
  },
  {
   "cell_type": "code",
   "execution_count": 18,
   "metadata": {},
   "outputs": [
    {
     "data": {
      "text/html": [
       "<div>\n",
       "<style scoped>\n",
       "    .dataframe tbody tr th:only-of-type {\n",
       "        vertical-align: middle;\n",
       "    }\n",
       "\n",
       "    .dataframe tbody tr th {\n",
       "        vertical-align: top;\n",
       "    }\n",
       "\n",
       "    .dataframe thead th {\n",
       "        text-align: right;\n",
       "    }\n",
       "</style>\n",
       "<table border=\"1\" class=\"dataframe\">\n",
       "  <thead>\n",
       "    <tr style=\"text-align: right;\">\n",
       "      <th></th>\n",
       "      <th>总价</th>\n",
       "      <th>单价</th>\n",
       "      <th>建筑面积</th>\n",
       "    </tr>\n",
       "  </thead>\n",
       "  <tbody>\n",
       "    <tr>\n",
       "      <th>count</th>\n",
       "      <td>2996.000000</td>\n",
       "      <td>2996.000000</td>\n",
       "      <td>2996.000000</td>\n",
       "    </tr>\n",
       "    <tr>\n",
       "      <th>mean</th>\n",
       "      <td>613.331776</td>\n",
       "      <td>62606.167557</td>\n",
       "      <td>97.227356</td>\n",
       "    </tr>\n",
       "    <tr>\n",
       "      <th>std</th>\n",
       "      <td>379.141789</td>\n",
       "      <td>21742.068060</td>\n",
       "      <td>38.903037</td>\n",
       "    </tr>\n",
       "    <tr>\n",
       "      <th>min</th>\n",
       "      <td>120.000000</td>\n",
       "      <td>17651.000000</td>\n",
       "      <td>26.420000</td>\n",
       "    </tr>\n",
       "    <tr>\n",
       "      <th>25%</th>\n",
       "      <td>380.000000</td>\n",
       "      <td>47449.000000</td>\n",
       "      <td>69.050000</td>\n",
       "    </tr>\n",
       "    <tr>\n",
       "      <th>50%</th>\n",
       "      <td>510.000000</td>\n",
       "      <td>58254.500000</td>\n",
       "      <td>90.100000</td>\n",
       "    </tr>\n",
       "    <tr>\n",
       "      <th>75%</th>\n",
       "      <td>700.000000</td>\n",
       "      <td>72863.250000</td>\n",
       "      <td>116.060000</td>\n",
       "    </tr>\n",
       "    <tr>\n",
       "      <th>max</th>\n",
       "      <td>4200.000000</td>\n",
       "      <td>149826.000000</td>\n",
       "      <td>485.860000</td>\n",
       "    </tr>\n",
       "  </tbody>\n",
       "</table>\n",
       "</div>"
      ],
      "text/plain": [
       "                总价             单价         建筑面积\n",
       "count  2996.000000    2996.000000  2996.000000\n",
       "mean    613.331776   62606.167557    97.227356\n",
       "std     379.141789   21742.068060    38.903037\n",
       "min     120.000000   17651.000000    26.420000\n",
       "25%     380.000000   47449.000000    69.050000\n",
       "50%     510.000000   58254.500000    90.100000\n",
       "75%     700.000000   72863.250000   116.060000\n",
       "max    4200.000000  149826.000000   485.860000"
      ]
     },
     "execution_count": 18,
     "metadata": {},
     "output_type": "execute_result"
    }
   ],
   "source": [
    "# 简单描述，只有这三个字段为数值格式，因此只显示这三个。\n",
    "data.describe()"
   ]
  },
  {
   "cell_type": "code",
   "execution_count": 19,
   "metadata": {},
   "outputs": [
    {
     "data": {
      "text/html": [
       "<div>\n",
       "<style scoped>\n",
       "    .dataframe tbody tr th:only-of-type {\n",
       "        vertical-align: middle;\n",
       "    }\n",
       "\n",
       "    .dataframe tbody tr th {\n",
       "        vertical-align: top;\n",
       "    }\n",
       "\n",
       "    .dataframe thead th {\n",
       "        text-align: right;\n",
       "    }\n",
       "</style>\n",
       "<table border=\"1\" class=\"dataframe\">\n",
       "  <thead>\n",
       "    <tr style=\"text-align: right;\">\n",
       "      <th></th>\n",
       "      <th>小区名称</th>\n",
       "    </tr>\n",
       "    <tr>\n",
       "      <th>地区</th>\n",
       "      <th></th>\n",
       "    </tr>\n",
       "  </thead>\n",
       "  <tbody>\n",
       "    <tr>\n",
       "      <th>朝阳</th>\n",
       "      <td>810</td>\n",
       "    </tr>\n",
       "    <tr>\n",
       "      <th>丰台</th>\n",
       "      <td>794</td>\n",
       "    </tr>\n",
       "    <tr>\n",
       "      <th>海淀</th>\n",
       "      <td>277</td>\n",
       "    </tr>\n",
       "    <tr>\n",
       "      <th>昌平</th>\n",
       "      <td>245</td>\n",
       "    </tr>\n",
       "    <tr>\n",
       "      <th>大兴</th>\n",
       "      <td>196</td>\n",
       "    </tr>\n",
       "    <tr>\n",
       "      <th>西城</th>\n",
       "      <td>160</td>\n",
       "    </tr>\n",
       "    <tr>\n",
       "      <th>房山</th>\n",
       "      <td>125</td>\n",
       "    </tr>\n",
       "    <tr>\n",
       "      <th>通州</th>\n",
       "      <td>92</td>\n",
       "    </tr>\n",
       "    <tr>\n",
       "      <th>东城</th>\n",
       "      <td>83</td>\n",
       "    </tr>\n",
       "    <tr>\n",
       "      <th>顺义</th>\n",
       "      <td>82</td>\n",
       "    </tr>\n",
       "    <tr>\n",
       "      <th>门头沟</th>\n",
       "      <td>60</td>\n",
       "    </tr>\n",
       "    <tr>\n",
       "      <th>石景山</th>\n",
       "      <td>50</td>\n",
       "    </tr>\n",
       "    <tr>\n",
       "      <th>亦庄开发区</th>\n",
       "      <td>22</td>\n",
       "    </tr>\n",
       "  </tbody>\n",
       "</table>\n",
       "</div>"
      ],
      "text/plain": [
       "       小区名称\n",
       "地区         \n",
       "朝阳      810\n",
       "丰台      794\n",
       "海淀      277\n",
       "昌平      245\n",
       "大兴      196\n",
       "西城      160\n",
       "房山      125\n",
       "通州       92\n",
       "东城       83\n",
       "顺义       82\n",
       "门头沟      60\n",
       "石景山      50\n",
       "亦庄开发区    22"
      ]
     },
     "execution_count": 19,
     "metadata": {},
     "output_type": "execute_result"
    }
   ],
   "source": [
    "# 分组查看各地区的小区数量\n",
    "# dis_count = pd.crosstab(data['地区'],data['小区名称'].count())\n",
    "dis_count = data[['地区','小区名称']].groupby(\"地区\").count()\n",
    "# 倒序排列\n",
    "dtc = dis_count.sort_values(by=\"小区名称\",ascending=False)\n",
    "dtc"
   ]
  },
  {
   "cell_type": "code",
   "execution_count": 20,
   "metadata": {},
   "outputs": [
    {
     "data": {
      "image/png": "[encoded data removed]",
      "text/plain": [
       "<Figure size 864x432 with 1 Axes>"
      ]
     },
     "metadata": {
      "needs_background": "light"
     },
     "output_type": "display_data"
    }
   ],
   "source": [
    "# 开始作图，可视化。\n",
    "# 设置大小\n",
    "plt.figure(figsize=(12, 6))\n",
    "plt.bar(dtc.index,dtc[\"小区名称\"])\n",
    "plt.title(\"二手房各地区的小区数量\")\n",
    "plt.ylabel(\"数量\")\n",
    "plt.xlabel(\"地区\")\n",
    "# 增加数据标签\n",
    "for x,y in zip(dtc.index,dtc[\"小区名称\"]):\n",
    "    plt.text(x,y+0.5,\"%d\"%y,fontdict={\"family\":\"Arial\",\"fontsize\":12,\"ha\":\"center\",\"color\":\"#333333\"})\n",
    "plt.show()"
   ]
  },
  {
   "cell_type": "markdown",
   "metadata": {},
   "source": [
    "**通过以上数据和图表发现，朝阳区和丰台区的二手房数量最多，均将近800个，占比超过50%。延庆、密云、怀柔、平谷则没有数据。**"
   ]
  },
  {
   "cell_type": "markdown",
   "metadata": {},
   "source": [
    "**下面地图，使用Echarts库完成,需要联网加载，地图文件在当前目录下map目录。延庆、密云、怀柔、平谷没有数据，填充为0。亦庄开发区也没有在地图上显示。**"
   ]
  },
  {
   "cell_type": "markdown",
   "metadata": {},
   "source": [
    "**本部分地图信息暂时不能随city变更而自动更换。数据需手动指定。**"
   ]
  },
  {
   "cell_type": "code",
   "execution_count": 21,
   "metadata": {},
   "outputs": [
    {
     "data": {
      "text/html": [
       "\n",
       "<div id='charts' style='width: 920px;height:600px;'></div>\n",
       "<script>\n",
       "    require.config({\n",
       "        paths:{\n",
       "            echarts:'//cdn.bootcss.com/echarts/4.1.0-release/echarts.min',\n",
       "        }\n",
       "    });\n",
       "    require(['echarts'],function(ec){\n",
       "        var myChart = ec.init(document.getElementById('charts'));\n",
       "        $.get('./map/json/province/beijing.json', function (geoJson){\n",
       "            ec.registerMap('北京',geoJson);\n",
       "            var option = {\n",
       "                title: {\n",
       "                    text: '地区分布'\n",
       "                },\n",
       "                tooltip: {\n",
       "                    trigger: 'item',\n",
       "                    formatter: '{b}<br/>{c} 个房子'\n",
       "                },\n",
       "                toolbox: {\n",
       "                    show: true,\n",
       "                    orient: 'vertical',\n",
       "                    left: 'right',\n",
       "                    top: 'center',\n",
       "                    feature: {\n",
       "                        dataView: {readOnly: false},\n",
       "                        restore: {},\n",
       "                        saveAsImage: {}\n",
       "                    }\n",
       "                },\n",
       "                visualMap: {\n",
       "                    min: 0,\n",
       "                    max: 1000,\n",
       "                    text:['High','Low'],\n",
       "                    realtime: false,\n",
       "                    calculable: true,\n",
       "                    inRange: {\n",
       "                        color: ['lightskyblue','yellow', 'orangered']\n",
       "                    }\n",
       "                },\n",
       "                series: [{\n",
       "                    name: '北京',\n",
       "                    type: 'map',\n",
       "                    mapType:'北京',\n",
       "                    roam: true,\n",
       "                    itemStyle:{\n",
       "                        normal:{label:{show:true}},\n",
       "                        emphasis:{label:{show:true}}\n",
       "                    },\n",
       "                    data: [\n",
       "                        {name: '朝阳区', value: 810},\n",
       "                        {name: '丰台区', value: 794},\n",
       "                        {name: '海淀区', value: 277},\n",
       "                        {name: '昌平区', value: 245},\n",
       "                        {name: '大兴区', value: 196},\n",
       "                        {name: '西城区', value: 160},\n",
       "                        {name: '房山区', value: 125},\n",
       "                        {name: '通州区', value: 92},\n",
       "                        {name: '东城区', value: 83},\n",
       "                        {name: '顺义区', value: 82},\n",
       "                        {name: '门头沟区', value: 60},\n",
       "                        {name: '石景山区', value: 50},\n",
       "                        {name: '亦庄开发区', value: 22},\n",
       "                        {name: '延庆区', value: 0},\n",
       "                        {name: '怀柔区', value: 0},\n",
       "                        {name: '密云区', value: 0},\n",
       "                        {name: '平谷区', value: 0},\n",
       "                    ]\n",
       "                }]\n",
       "            };\n",
       "\n",
       "            // 使用刚指定的配置项和数据显示图表。\n",
       "            myChart.setOption(option);\n",
       "        });\n",
       "    });\n",
       "</script>\n"
      ],
      "text/plain": [
       "<IPython.core.display.HTML object>"
      ]
     },
     "execution_count": 21,
     "metadata": {},
     "output_type": "execute_result"
    }
   ],
   "source": [
    "# 本库为显示html内容。notebook自带。\n",
    "from IPython.display import HTML\n",
    "# html内容\n",
    "htm = \"\"\"\n",
    "<div id='charts' style='width: 920px;height:600px;'></div>\n",
    "<script>\n",
    "    require.config({\n",
    "        paths:{\n",
    "            echarts:'//cdn.bootcss.com/echarts/4.1.0-release/echarts.min',\n",
    "        }\n",
    "    });\n",
    "    require(['echarts'],function(ec){\n",
    "        var myChart = ec.init(document.getElementById('charts'));\n",
    "        $.get('./map/json/province/beijing.json', function (geoJson){\n",
    "            ec.registerMap('北京',geoJson);\n",
    "            var option = {\n",
    "                title: {\n",
    "                    text: '地区分布'\n",
    "                },\n",
    "                tooltip: {\n",
    "                    trigger: 'item',\n",
    "                    formatter: '{b}<br/>{c} 个房子'\n",
    "                },\n",
    "                toolbox: {\n",
    "                    show: true,\n",
    "                    orient: 'vertical',\n",
    "                    left: 'right',\n",
    "                    top: 'center',\n",
    "                    feature: {\n",
    "                        dataView: {readOnly: false},\n",
    "                        restore: {},\n",
    "                        saveAsImage: {}\n",
    "                    }\n",
    "                },\n",
    "                visualMap: {\n",
    "                    min: 0,\n",
    "                    max: 1000,\n",
    "                    text:['High','Low'],\n",
    "                    realtime: false,\n",
    "                    calculable: true,\n",
    "                    inRange: {\n",
    "                        color: ['lightskyblue','yellow', 'orangered']\n",
    "                    }\n",
    "                },\n",
    "                series: [{\n",
    "                    name: '北京',\n",
    "                    type: 'map',\n",
    "                    mapType:'北京',\n",
    "                    roam: true,\n",
    "                    itemStyle:{\n",
    "                        normal:{label:{show:true}},\n",
    "                        emphasis:{label:{show:true}}\n",
    "                    },\n",
    "                    data: [\n",
    "                        {name: '朝阳区', value: 810},\n",
    "                        {name: '丰台区', value: 794},\n",
    "                        {name: '海淀区', value: 277},\n",
    "                        {name: '昌平区', value: 245},\n",
    "                        {name: '大兴区', value: 196},\n",
    "                        {name: '西城区', value: 160},\n",
    "                        {name: '房山区', value: 125},\n",
    "                        {name: '通州区', value: 92},\n",
    "                        {name: '东城区', value: 83},\n",
    "                        {name: '顺义区', value: 82},\n",
    "                        {name: '门头沟区', value: 60},\n",
    "                        {name: '石景山区', value: 50},\n",
    "                        {name: '亦庄开发区', value: 22},\n",
    "                        {name: '延庆区', value: 0},\n",
    "                        {name: '怀柔区', value: 0},\n",
    "                        {name: '密云区', value: 0},\n",
    "                        {name: '平谷区', value: 0},\n",
    "                    ]\n",
    "                }]\n",
    "            };\n",
    "\n",
    "            // 使用刚指定的配置项和数据显示图表。\n",
    "            myChart.setOption(option);\n",
    "        });\n",
    "    });\n",
    "</script>\n",
    "\"\"\"\n",
    "HTML(htm)"
   ]
  },
  {
   "cell_type": "markdown",
   "metadata": {},
   "source": [
    "**通过地图可以发现，二手房集中朝阳区和丰台区，两个区占比超过50%。**"
   ]
  },
  {
   "cell_type": "code",
   "execution_count": 22,
   "metadata": {},
   "outputs": [
    {
     "data": {
      "image/png": "[encoded data removed]",
      "text/plain": [
       "<Figure size 864x432 with 1 Axes>"
      ]
     },
     "metadata": {
      "needs_background": "light"
     },
     "output_type": "display_data"
    }
   ],
   "source": [
    "# data['总价'].sort_values()\n",
    "# 对价格进行分组\n",
    "price_cat = pd.cut(data['总价'].values,[0,500,1000,1500,2000,2500,3000,3500,4000,4500],right=False)\n",
    "# 每一组的数量\n",
    "price_cate = price_cat.value_counts()\n",
    "plt.figure(figsize=(12, 6))\n",
    "# 柱状图\n",
    "price_cate.plot(kind=\"bar\",color=\"#336699\")\n",
    "plt.title(\"总价价格区间（万元） & 房屋数量\")\n",
    "plt.xlabel(\"价格区间（万元）\")\n",
    "plt.ylabel(\"数量\")\n",
    "plt.show()"
   ]
  },
  {
   "cell_type": "markdown",
   "metadata": {},
   "source": [
    "**通过图表可以看出，价格在500万元以下的房子超过1400套，500-1000万元的房子1200套左右，1000-1500万元的房子达到200套以上。1000万元以下聚集了大部分的房屋。**"
   ]
  },
  {
   "cell_type": "code",
   "execution_count": 23,
   "metadata": {},
   "outputs": [
    {
     "data": {
      "image/png": "[encoded data removed]",
      "text/plain": [
       "<Figure size 864x432 with 1 Axes>"
      ]
     },
     "metadata": {
      "needs_background": "light"
     },
     "output_type": "display_data"
    }
   ],
   "source": [
    "# print(data['单价'].sort_values())\n",
    "# 对价格进行分组\n",
    "price_cat_u = pd.cut(data['单价'].values,[0,20000,30000,40000,50000,60000,70000,80000,90000,100000,110000,120000,130000,140000,150000],right=False)\n",
    "# 每一组的数量\n",
    "price_cate_u = price_cat_u.value_counts()\n",
    "plt.figure(figsize=(12, 6))\n",
    "# 柱状图\n",
    "price_cate_u.plot(kind=\"bar\",color=\"#336699\")\n",
    "plt.title(\"单价价格区间（元） & 房屋数量\")\n",
    "plt.xlabel(\"价格区间（元）\")\n",
    "plt.ylabel(\"数量\")\n",
    "plt.show()"
   ]
  },
  {
   "cell_type": "markdown",
   "metadata": {},
   "source": [
    "**在单价方面，50000-60000元/平米的房子最多，其次是40000-50000元/平米，再其次是60000-70000元/平米，这三部分占到一半以上；低于20000元/平米的数量非常少。**"
   ]
  },
  {
   "cell_type": "code",
   "execution_count": 24,
   "metadata": {},
   "outputs": [
    {
     "data": {
      "image/png": "[encoded data removed]",
      "text/plain": [
       "<Figure size 864x432 with 1 Axes>"
      ]
     },
     "metadata": {
      "needs_background": "light"
     },
     "output_type": "display_data"
    }
   ],
   "source": [
    "# print(data['建筑面积（平米）'].sort_values())\n",
    "# 倒序排列\n",
    "area_cat = pd.cut(data['建筑面积'].values,[i for i in range(0,550,50)],right=False)\n",
    "# 每一组的数量\n",
    "area_cate = area_cat.value_counts()\n",
    "plt.figure(figsize=(12, 6))\n",
    "area_cate.plot(kind=\"bar\",color=\"#336699\")\n",
    "plt.title(\"建筑面积（平米） & 房屋数量\")\n",
    "plt.xlabel(\"建筑面积区间（平米）\")\n",
    "plt.ylabel(\"数量\")\n",
    "plt.show()"
   ]
  },
  {
   "cell_type": "markdown",
   "metadata": {},
   "source": [
    "**在建筑面积方面，最多的是50-100平米的房子，达到1750左右，占到50%以上，其次是100-150平米的房子。**"
   ]
  },
  {
   "cell_type": "code",
   "execution_count": 25,
   "metadata": {},
   "outputs": [
    {
     "name": "stdout",
     "output_type": "stream",
     "text": [
      "      小区名称\n",
      "地址2       \n",
      "五至六环   909\n",
      "三至四环   768\n",
      "四至五环   666\n",
      "二至三环   378\n",
      "六环外    171\n",
      "二环内     83\n",
      "暂无数据    21\n"
     ]
    },
    {
     "name": "stderr",
     "output_type": "stream",
     "text": [
      "c:\\users\\zgm\\appdata\\local\\programs\\python\\python37-32\\lib\\site-packages\\pandas\\core\\generic.py:5434: SettingWithCopyWarning: \n",
      "A value is trying to be set on a copy of a slice from a DataFrame\n",
      "\n",
      "See the caveats in the documentation: http://pandas.pydata.org/pandas-docs/stable/indexing.html#indexing-view-versus-copy\n",
      "  self._update_inplace(new_data)\n"
     ]
    }
   ],
   "source": [
    "# 填充缺失值\n",
    "data['地址2'].fillna(\"暂无数据\", inplace=True)\n",
    "# print(data['地址2'].head())\n",
    "data_cir = data[['地址2', '小区名称']].groupby(\"地址2\").count()\n",
    "data_cir = data_cir.sort_values(by=\"小区名称\",ascending=False)\n",
    "print(data_cir)"
   ]
  },
  {
   "cell_type": "code",
   "execution_count": 26,
   "metadata": {},
   "outputs": [
    {
     "data": {
      "image/png": "[encoded data removed]",
      "text/plain": [
       "<Figure size 720x432 with 1 Axes>"
      ]
     },
     "metadata": {
      "needs_background": "light"
     },
     "output_type": "display_data"
    }
   ],
   "source": [
    "plt.figure(figsize=(10, 6))\n",
    "plt.bar(data_cir.index,data_cir['小区名称'],color=\"#369369\")\n",
    "plt.title(\"所在环数 & 房屋数量\")\n",
    "plt.xlabel(\"环数\")\n",
    "plt.ylabel(\"房屋数量\")\n",
    "for x,y in zip(data_cir.index,data_cir['小区名称']):\n",
    "    plt.text(x,y+0.5,\"%d\"%y,fontdict={\"family\":\"Arial\",\"fontsize\":12,\"ha\":\"center\",\"color\":\"#333333\"})\n",
    "plt.show()"
   ]
  },
  {
   "cell_type": "markdown",
   "metadata": {},
   "source": [
    "**同样可以发现，五六环的房子最多，其次是三四环，然后是四五环，还有21个没有数据。**"
   ]
  },
  {
   "cell_type": "code",
   "execution_count": 27,
   "metadata": {},
   "outputs": [
    {
     "data": {
      "image/png": "[encoded data removed]",
      "text/plain": [
       "<Figure size 1080x360 with 2 Axes>"
      ]
     },
     "metadata": {
      "needs_background": "light"
     },
     "output_type": "display_data"
    }
   ],
   "source": [
    "fig = plt.figure(figsize=(15, 5))\n",
    "# 多图显示\n",
    "ax1 = fig.add_subplot(121)\n",
    "ax2 = fig.add_subplot(122)\n",
    "# 分组统计\n",
    "data_modif = data[['装修情况','小区名称']].groupby('装修情况').count()\n",
    "# 排序\n",
    "data_modif = data_modif.sort_values(by=\"小区名称\",ascending=False)\n",
    "ax1.bar(data_modif.index,data_modif['小区名称'],color=\"#369369\")\n",
    "ax1.set_title(\"装修情况 & 房屋数量\")\n",
    "ax1.set_xlabel(\"装修情况\")\n",
    "ax1.set_ylabel(\"房屋数量\")\n",
    "# 设置边框显示\n",
    "ax1.spines['top'].set_visible(False)\n",
    "ax1.spines['right'].set_visible(False)\n",
    "# 数据标签\n",
    "for x,y in zip(data_modif.index,data_modif['小区名称']):\n",
    "    ax1.text(x,y+0.5,\"%d\"%y,fontdict={\"family\":\"Arial\",\"fontsize\":12,\"ha\":\"center\",\"color\":\"#333333\"})\n",
    "labels = data_modif.index\n",
    "sizes = data_modif['小区名称']\n",
    "# 饼图\n",
    "ax2.pie(sizes,labels=labels,labeldistance = 1.1,autopct = '%3.1f%%',shadow = False,startangle = 90,pctdistance = 0.6)\n",
    "ax2.set_title(\"装修情况 & 房屋数量 占比情况\")\n",
    "ax2.set_xlabel(\"装修占比情况\")\n",
    "plt.show()"
   ]
  },
  {
   "cell_type": "markdown",
   "metadata": {},
   "source": [
    "**装修情况：精装修占比50.7%，简装占比40.1%，毛坯占2.3%，其余为其他类型。**"
   ]
  },
  {
   "cell_type": "markdown",
   "metadata": {},
   "source": [
    "**其他城市未保存供暖方式选项，因此本部分只在程序自带的数据集适用。如果重新爬取则无此选项，跳过即可。**"
   ]
  },
  {
   "cell_type": "code",
   "execution_count": 28,
   "metadata": {},
   "outputs": [
    {
     "data": {
      "image/png": "[encoded data removed]",
      "text/plain": [
       "<Figure size 1080x360 with 2 Axes>"
      ]
     },
     "metadata": {
      "needs_background": "light"
     },
     "output_type": "display_data"
    }
   ],
   "source": [
    "fig = plt.figure(figsize=(15, 5))\n",
    "ax1 = fig.add_subplot(121)\n",
    "ax2 = fig.add_subplot(122)\n",
    "data_warm = data[['供暖方式','小区名称']].groupby('供暖方式').count()\n",
    "data_warm = data_warm.sort_values(by=\"小区名称\",ascending=False)\n",
    "ax1.bar(data_warm.index,data_warm['小区名称'],color=\"#369369\")\n",
    "ax1.set_title(\"供暖方式 & 房屋数量\")\n",
    "ax1.set_xlabel(\"供暖方式\")\n",
    "ax1.set_ylabel(\"房屋数量\")\n",
    "ax1.spines['top'].set_visible(False)\n",
    "ax1.spines['right'].set_visible(False)\n",
    "for x,y in zip(data_warm.index,data_warm['小区名称']):\n",
    "    ax1.text(x,y+0.5,\"%d\"%y,fontdict={\"family\":\"Arial\",\"fontsize\":12,\"ha\":\"center\",\"color\":\"#333333\"})\n",
    "labels = data_warm.index\n",
    "sizes = data_warm['小区名称']\n",
    "ax2.pie(sizes,labels=labels,labeldistance = 1.1,autopct = '%3.1f%%',shadow = False,startangle = 90,pctdistance = 0.6)\n",
    "ax2.set_title(\"供暖方式 & 房屋数量 占比情况\")\n",
    "ax2.set_xlabel(\"供暖方式占比情况\")\n",
    "plt.show()"
   ]
  },
  {
   "cell_type": "markdown",
   "metadata": {},
   "source": [
    "**供暖方式方面，集中供暖占据75%以上，自供暖占22.1%。说明供暖还是以集中供暖为主。**"
   ]
  },
  {
   "cell_type": "code",
   "execution_count": 29,
   "metadata": {},
   "outputs": [
    {
     "data": {
      "image/png": "[encoded data removed]",
      "text/plain": [
       "<Figure size 1080x360 with 2 Axes>"
      ]
     },
     "metadata": {
      "needs_background": "light"
     },
     "output_type": "display_data"
    }
   ],
   "source": [
    "fig = plt.figure(figsize=(15, 5))\n",
    "ax1 = fig.add_subplot(121)\n",
    "ax2 = fig.add_subplot(122)\n",
    "data_elevator = data[['配备电梯','小区名称']].groupby('配备电梯').count()\n",
    "data_elevator = data_elevator.sort_values(by=\"小区名称\",ascending=False)\n",
    "ax1.bar(data_elevator.index,data_elevator['小区名称'],color=\"#369369\")\n",
    "ax1.set_title(\"配备电梯 & 房屋数量\")\n",
    "ax1.set_xlabel(\"配备电梯\")\n",
    "ax1.set_ylabel(\"房屋数量\")\n",
    "ax1.spines['top'].set_visible(False)\n",
    "ax1.spines['right'].set_visible(False)\n",
    "for x,y in zip(data_elevator.index,data_elevator['小区名称']):\n",
    "    ax1.text(x,y+0.5,\"%d\"%y,fontdict={\"family\":\"Arial\",\"fontsize\":12,\"ha\":\"center\",\"color\":\"#333333\"})\n",
    "labels = data_elevator.index\n",
    "sizes = data_elevator['小区名称']\n",
    "ax2.pie(sizes,labels=labels,labeldistance = 1.1,autopct = '%3.1f%%',shadow = False,startangle = 90,pctdistance = 0.6)\n",
    "ax2.set_title(\"配备电梯 & 房屋数量 占比情况\")\n",
    "ax2.set_xlabel(\"配备电梯占比情况\")\n",
    "plt.show()"
   ]
  },
  {
   "cell_type": "markdown",
   "metadata": {},
   "source": [
    "**有电梯的房子占64.3%，没有电梯的房子值31.8%。**"
   ]
  },
  {
   "cell_type": "code",
   "execution_count": 30,
   "metadata": {},
   "outputs": [
    {
     "data": {
      "image/png": "[encoded data removed]",
      "text/plain": [
       "<Figure size 1080x360 with 1 Axes>"
      ]
     },
     "metadata": {
      "needs_background": "light"
     },
     "output_type": "display_data"
    }
   ],
   "source": [
    "fig = plt.figure(figsize=(15, 5))\n",
    "ax1 = fig.add_subplot(111)\n",
    "data_trans = data[['交易权属','小区名称']].groupby('交易权属').count()\n",
    "data_trans = data_trans.sort_values(by=\"小区名称\",ascending=False)\n",
    "ax1.bar(data_trans.index,data_trans['小区名称'],color=\"#369369\")\n",
    "# seaborn 库画图\n",
    "sns.barplot(data_trans.index,data_trans['小区名称'],palette=\"Purples_r\")\n",
    "ax1.set_title(\"交易权属 & 房屋数量\")\n",
    "ax1.set_xlabel(\"交易权属\")\n",
    "ax1.set_ylabel(\"房屋数量\")\n",
    "ax1.spines['top'].set_visible(False)\n",
    "ax1.spines['right'].set_visible(False)\n",
    "for x,y in zip(data_trans.index,data_trans['小区名称']):\n",
    "    ax1.text(x,y+0.5,\"%d\"%y,fontdict={\"family\":\"Arial\",\"fontsize\":12,\"ha\":\"center\",\"color\":\"#333333\"})\n",
    "plt.show()"
   ]
  },
  {
   "cell_type": "markdown",
   "metadata": {},
   "source": [
    "**商品房占大多数，达到2000以上。其他还有经济适用房等等多种类型。**"
   ]
  },
  {
   "cell_type": "code",
   "execution_count": 31,
   "metadata": {},
   "outputs": [
    {
     "data": {
      "text/html": [
       "\n",
       "<div id='chartss' style='width: 800px;height:400px;'></div>\n",
       "<script>\n",
       "    require.config({\n",
       "        paths:{\n",
       "            echarts:'//cdn.bootcss.com/echarts/4.1.0-release/echarts.min',\n",
       "        }\n",
       "    });\n",
       "    require(['echarts'],function(ecs){\n",
       "        var myChart = ecs.init(document.getElementById('chartss'));\n",
       "        option = {\n",
       "            tooltip: {\n",
       "                trigger: 'axis',\n",
       "                position: function (pt) {\n",
       "                    return [pt[0], '10%'];\n",
       "                }\n",
       "            },\n",
       "            title: {\n",
       "                left: 'center',\n",
       "                text: '挂牌时间 & 小区数量增长趋势（交互图表）',\n",
       "            },\n",
       "            toolbox: {\n",
       "                feature: {\n",
       "                    dataZoom: {\n",
       "                        yAxisIndex: 'none'\n",
       "                    },\n",
       "                    restore: {},\n",
       "                    saveAsImage: {}\n",
       "                }\n",
       "            },\n",
       "            xAxis: {\n",
       "                type: 'category',\n",
       "                boundaryGap: false,\n",
       "                data: ['2015-09-07', '2016-06-15', '2016-08-24', '2016-08-25', '2016-09-21', '2016-11-01', '2016-11-04', '2017-02-15', '2017-02-25', '2017-02-26', '2017-03-02', '2017-03-08', '2017-03-12', '2017-03-15', '2017-03-28', '2017-03-29', '2017-04-02', '2017-04-15', '2017-04-22', '2017-04-26', '2017-04-28', '2017-05-04', '2017-05-05', '2017-05-07', '2017-05-10', '2017-05-13', '2017-05-15', '2017-05-21', '2017-05-31', '2017-06-03', '2017-06-05', '2017-06-07', '2017-06-08', '2017-06-14', '2017-06-15', '2017-06-18', '2017-06-22', '2017-07-21', '2017-07-26', '2017-07-30', '2017-08-01', '2017-08-02', '2017-08-03', '2017-08-06', '2017-08-11', '2017-08-12', '2017-08-14', '2017-08-18', '2017-08-22', '2017-08-23', '2017-08-24', '2017-08-25', '2017-08-27', '2017-08-28', '2017-08-30', '2017-09-01', '2017-09-07', '2017-09-08', '2017-09-10', '2017-09-11', '2017-09-18', '2017-09-20', '2017-09-22', '2017-09-23', '2017-09-26', '2017-09-29', '2017-10-10', '2017-10-11', '2017-10-12', '2017-10-13', '2017-10-15', '2017-10-22', '2017-10-24', '2017-10-28', '2017-10-29', '2017-10-30', '2017-10-31', '2017-11-04', '2017-11-05', '2017-11-06', '2017-11-08', '2017-11-09', '2017-11-10', '2017-11-11', '2017-11-12', '2017-11-13', '2017-11-14', '2017-11-15', '2017-11-16', '2017-11-17', '2017-11-19', '2017-11-20', '2017-11-21', '2017-11-23', '2017-11-24', '2017-11-25', '2017-11-26', '2017-11-27', '2017-11-29', '2017-11-30', '2017-12-01', '2017-12-02', '2017-12-03', '2017-12-05', '2017-12-06', '2017-12-07', '2017-12-09', '2017-12-11', '2017-12-12', '2017-12-14', '2017-12-16', '2017-12-17', '2017-12-19', '2017-12-20', '2017-12-21', '2017-12-24', '2017-12-26', '2017-12-27', '2017-12-28', '2017-12-29', '2017-12-30', '2017-12-31', '2018-01-02', '2018-01-03', '2018-01-05', '2018-01-06', '2018-01-07', '2018-01-08', '2018-01-10', '2018-01-12', '2018-01-14', '2018-01-15', '2018-01-16', '2018-01-17', '2018-01-18', '2018-01-20', '2018-01-21', '2018-01-23', '2018-01-24', '2018-01-25', '2018-01-26', '2018-01-28', '2018-01-29', '2018-01-31', '2018-02-01', '2018-02-02', '2018-02-07', '2018-02-22', '2018-02-24', '2018-02-25', '2018-02-26', '2018-02-27', '2018-02-28', '2018-03-01', '2018-03-02', '2018-03-03', '2018-03-04', '2018-03-05', '2018-03-06', '2018-03-07', '2018-03-08', '2018-03-09', '2018-03-10', '2018-03-11', '2018-03-12', '2018-03-14', '2018-03-15', '2018-03-16', '2018-03-17', '2018-03-18', '2018-03-19', '2018-03-20', '2018-03-21', '2018-03-22', '2018-03-23', '2018-03-24', '2018-03-25', '2018-03-26', '2018-03-27', '2018-03-28', '2018-03-29', '2018-03-30', '2018-03-31', '2018-04-01', '2018-04-02', '2018-04-03', '2018-04-04', '2018-04-05', '2018-04-06', '2018-04-07', '2018-04-08', '2018-04-09', '2018-04-10', '2018-04-11', '2018-04-13', '2018-04-14', '2018-04-15', '2018-04-16', '2018-04-17', '2018-04-18', '2018-04-19', '2018-04-20', '2018-04-21', '2018-04-22', '2018-04-23', '2018-04-24', '2018-04-25', '2018-04-26', '2018-04-27', '2018-04-28', '2018-04-29', '2018-04-30', '2018-05-01', '2018-05-02', '2018-05-03', '2018-05-04', '2018-05-05', '2018-05-06', '2018-05-07', '2018-05-08', '2018-05-09', '2018-05-10', '2018-05-11', '2018-05-12', '2018-05-13', '2018-05-14', '2018-05-15', '2018-05-16', '2018-05-17', '2018-05-18', '2018-05-19', '2018-05-20', '2018-05-21', '2018-05-22', '2018-05-23', '2018-05-24', '2018-05-25', '2018-05-26', '2018-05-27', '2018-05-28', '2018-05-29', '2018-05-30', '2018-05-31', '2018-06-01', '2018-06-02', '2018-06-03', '2018-06-04', '2018-06-05', '2018-06-06', '2018-06-07', '2018-06-08', '2018-06-09', '2018-06-10', '2018-06-11', '2018-06-12', '2018-06-13', '2018-06-14', '2018-06-15', '2018-06-16', '2018-06-17', '2018-06-18', '2018-06-19', '2018-06-20', '2018-06-21', '2018-06-22', '2018-06-23', '2018-06-24', '2018-06-25', '2018-06-26', '2018-06-27', '2018-06-28', '2018-06-29', '2018-06-30', '2018-07-01', '2018-07-02', '2018-07-03', '2018-07-04', '2018-07-05', '2018-07-06', '2018-07-07', '2018-07-08', '2018-07-09', '2018-07-10', '2018-07-11', '2018-07-12', '2018-07-13', '2018-07-14', '2018-07-15', '2018-07-16', '2018-07-17', '2018-07-18', '2018-07-19', '2018-07-20', '2018-07-21', '2018-07-22', '2018-07-23', '2018-07-24', '2018-07-25', '2018-07-26', '2018-07-27', '2018-07-28', '2018-07-29', '2018-07-30', '2018-07-31', '2018-08-01', '2018-08-02', '2018-08-03', '2018-08-04', '2018-08-05', '2018-08-06', '2018-08-07', '2018-08-08', '2018-08-09', '2018-08-10', '2018-08-11', '2018-08-12', '2018-08-13', '2018-08-14', '2018-08-15', '2018-08-16', '2018-08-17', '2018-08-18', '2018-08-19', '2018-08-20', '2018-08-21', '2018-08-22', '2018-08-23', '2018-08-24', '2018-08-25', '2018-08-26', '2018-08-27', '2018-08-28', '2018-08-29', '2018-08-30', '2018-08-31', '2018-09-01', '2018-09-02', '2018-09-03', '2018-09-04', '2018-09-05', '2018-09-06', '2018-09-07', '2018-09-08', '2018-09-09', '2018-09-10', '2018-09-11', '2018-09-12', '2018-09-13', '2018-09-14', '2018-09-15', '2018-09-16', '2018-09-17', '2018-09-18', '2018-09-19', '2018-09-20', '2018-09-21', '2018-09-22', '2018-09-23', '2018-09-24', '2018-09-25', '2018-09-26', '2018-09-27', '2018-09-28', '2018-09-29', '2018-09-30', '2018-10-01', '2018-10-02', '2018-10-03', '2018-10-04', '2018-10-05', '2018-10-06', '2018-10-07', '2018-10-08', '2018-10-09', '2018-10-10', '2018-10-11', '2018-10-12', '2018-10-13', '2018-10-14', '2018-10-15', '2018-10-16', '2018-10-17', '2018-10-18', '2018-10-19', '2018-10-20', '2018-10-21', '2018-10-22', '2018-10-23', '2018-10-24', '2018-10-25', '2018-10-26', '2018-10-27', '2018-10-28', '2018-10-29', '2018-10-30', '2018-10-31', '2018-11-01', '2018-11-02', '2018-11-03', '2018-11-04', '2018-11-05', '2018-11-06', '2018-11-07', '2018-11-08', '2018-11-09', '2018-11-10', '2018-11-11', '2018-11-12', '2018-11-13', '2018-11-14', '2018-11-15', '2018-11-16', '2018-11-17', '2018-11-18', '2018-11-19', '2018-11-20', '2018-11-21', '2018-11-22', '2018-11-23', '2018-11-24', '2018-11-25', '2018-11-26', '2018-11-27', '2018-11-28', '2018-11-29', '2018-11-30', '2018-12-01', '2018-12-02', '2018-12-03', '2018-12-04', '2018-12-05', '2018-12-06', '2018-12-07', '2018-12-08', '2018-12-09', '2018-12-10', '2018-12-11', '2018-12-12', '2018-12-13', '2018-12-14', '2018-12-15', '2018-12-16', '2018-12-17', '2018-12-18', '2018-12-19', '2018-12-20', '2018-12-21', '2018-12-22', '2018-12-23', '2018-12-24', '2018-12-25', '2018-12-26', '2018-12-27', '2018-12-28', '2018-12-29', '2018-12-30', '2018-12-31']\n",
       "            },\n",
       "            yAxis: {\n",
       "                type: 'value',\n",
       "                boundaryGap: [0, '100%']\n",
       "            },\n",
       "            dataZoom: [{\n",
       "                type: 'inside',\n",
       "                start: 0,\n",
       "                end: 100\n",
       "            }, {\n",
       "                start: 0,\n",
       "                end: 10,\n",
       "                handleIcon: 'M10.7,11.9v-1.3H9.3v1.3c-4.9,0.3-8.8,4.4-8.8,9.4c0,5,3.9,9.1,8.8,9.4v1.3h1.3v-1.3c4.9-0.3,8.8-4.4,8.8-9.4C19.5,16.3,15.6,12.2,10.7,11.9z M13.3,24.4H6.7V23h6.6V24.4z M13.3,19.6H6.7v-1.4h6.6V19.6z',\n",
       "                handleSize: '80%',\n",
       "                handleStyle: {\n",
       "                    color: '#fff',\n",
       "                    shadowBlur: 3,\n",
       "                    shadowColor: 'rgba(0, 0, 0, 0.6)',\n",
       "                    shadowOffsetX: 2,\n",
       "                    shadowOffsetY: 2\n",
       "                }\n",
       "            }],\n",
       "            series: [\n",
       "                {\n",
       "                    name:'数量',\n",
       "                    type:'line',\n",
       "                    smooth:true,\n",
       "                    symbol: 'none',\n",
       "                    sampling: 'average',\n",
       "                    itemStyle: {\n",
       "                        color: 'rgb(255, 70, 131)'\n",
       "                    },\n",
       "                    data: [1, 1, 1, 1, 1, 1, 1, 1, 2, 1, 1, 1, 1, 1, 1, 1, 1, 1, 1, 1, 1, 1, 1, 2, 1, 1, 1, 1, 1, 1, 1, 1, 1, 1, 1, 1, 1, 3, 1, 1, 2, 1, 1, 1, 2, 2, 1, 1, 1, 1, 1, 2, 1, 1, 1, 3, 2, 1, 1, 1, 1, 1, 2, 1, 1, 1, 1, 2, 1, 1, 1, 2, 1, 2, 2, 1, 1, 1, 1, 2, 1, 1, 2, 1, 2, 3, 3, 1, 1, 2, 1, 1, 2, 1, 1, 3, 1, 1, 1, 1, 2, 1, 2, 1, 1, 3, 1, 1, 2, 3, 1, 2, 1, 2, 2, 2, 1, 4, 1, 3, 2, 1, 2, 2, 3, 1, 3, 1, 1, 1, 2, 1, 1, 1, 2, 3, 2, 2, 2, 1, 1, 3, 1, 1, 4, 1, 1, 1, 2, 3, 5, 3, 2, 2, 2, 5, 3, 5, 4, 3, 2, 6, 6, 1, 4, 7, 2, 5, 4, 3, 6, 3, 5, 4, 4, 3, 5, 3, 6, 4, 4, 2, 4, 5, 3, 2, 3, 3, 2, 5, 8, 2, 6, 2, 5, 4, 5, 2, 4, 4, 1, 2, 5, 2, 4, 2, 6, 3, 2, 4, 8, 4, 1, 4, 9, 5, 4, 6, 8, 3, 3, 8, 5, 4, 5, 9, 4, 12, 8, 4, 6, 6, 6, 4, 3, 9, 4, 6, 7, 4, 9, 6, 8, 11, 8, 9, 4, 10, 8, 8, 2, 5, 5, 10, 5, 5, 6, 8, 7, 6, 11, 4, 7, 15, 8, 7, 13, 11, 6, 11, 12, 10, 9, 8, 9, 8, 8, 11, 18, 19, 16, 14, 13, 12, 14, 10, 18, 27, 11, 11, 20, 12, 14, 32, 19, 11, 10, 17, 25, 12, 21, 26, 16, 15, 25, 20, 12, 35, 37, 21, 15, 35, 30, 31, 28, 23, 22, 12, 12, 7, 3, 10, 7, 5, 5, 8, 5, 12, 9, 15, 11, 7, 12, 10, 12, 6, 16, 8, 6, 10, 7, 7, 14, 4, 11, 4, 7, 11, 7, 12, 15, 2, 7, 8, 7, 7, 8, 10, 6, 6, 11, 7, 12, 5, 8, 2, 5, 4, 6, 4, 11, 12, 15, 17, 17, 17, 7, 12, 8, 7, 7, 12, 4, 6, 15, 22, 8, 9, 3, 10, 15, 8, 16, 8, 20, 14, 13, 7, 8, 10, 11, 9, 6, 6, 9, 11, 10, 5, 7, 8, 3, 8, 16, 14, 8, 5, 7, 5, 5, 7, 14, 4, 5, 7, 9, 6, 9, 22, 15, 12, 9, 14, 13, 14, 11, 9, 11, 11, 11, 12, 9, 15, 8, 14, 10, 13, 10, 14, 13, 11, 13, 8, 6, 5, 10, 5, 2]\n",
       "                }\n",
       "            ]\n",
       "        };\n",
       "        myChart.setOption(option);\n",
       "    });\n",
       "</script>\n"
      ],
      "text/plain": [
       "<IPython.core.display.HTML object>"
      ]
     },
     "execution_count": 31,
     "metadata": {},
     "output_type": "execute_result"
    }
   ],
   "source": [
    "data['挂牌时间'].apply(pd.to_datetime)\n",
    "data['挂牌时间'].sort_values(ascending=True)\n",
    "data_day_num = data[['挂牌时间','小区名称']].groupby('挂牌时间').count()\n",
    "data_col_1 = data_day_num['小区名称']\n",
    "data_col_2 = data_day_num.index\n",
    "# 拼接字符串，将数据填充进去，使用Echarts前端库显示交互图表。\n",
    "html = \"\"\"\n",
    "<div id='chartss' style='width: 800px;height:400px;'></div>\n",
    "<script>\n",
    "    require.config({\n",
    "        paths:{\n",
    "            echarts:'//cdn.bootcss.com/echarts/4.1.0-release/echarts.min',\n",
    "        }\n",
    "    });\n",
    "    require(['echarts'],function(ecs){\n",
    "        var myChart = ecs.init(document.getElementById('chartss'));\n",
    "        option = {\n",
    "            tooltip: {\n",
    "                trigger: 'axis',\n",
    "                position: function (pt) {\n",
    "                    return [pt[0], '10%'];\n",
    "                }\n",
    "            },\n",
    "            title: {\n",
    "                left: 'center',\n",
    "                text: '挂牌时间 & 小区数量增长趋势（交互图表）',\n",
    "            },\n",
    "            toolbox: {\n",
    "                feature: {\n",
    "                    dataZoom: {\n",
    "                        yAxisIndex: 'none'\n",
    "                    },\n",
    "                    restore: {},\n",
    "                    saveAsImage: {}\n",
    "                }\n",
    "            },\n",
    "            xAxis: {\n",
    "                type: 'category',\n",
    "                boundaryGap: false,\n",
    "                data: \"\"\" + str(list(data_col_2)) + \"\"\"\n",
    "            },\n",
    "            yAxis: {\n",
    "                type: 'value',\n",
    "                boundaryGap: [0, '100%']\n",
    "            },\n",
    "            dataZoom: [{\n",
    "                type: 'inside',\n",
    "                start: 0,\n",
    "                end: 100\n",
    "            }, {\n",
    "                start: 0,\n",
    "                end: 10,\n",
    "                handleIcon: 'M10.7,11.9v-1.3H9.3v1.3c-4.9,0.3-8.8,4.4-8.8,9.4c0,5,3.9,9.1,8.8,9.4v1.3h1.3v-1.3c4.9-0.3,8.8-4.4,8.8-9.4C19.5,16.3,15.6,12.2,10.7,11.9z M13.3,24.4H6.7V23h6.6V24.4z M13.3,19.6H6.7v-1.4h6.6V19.6z',\n",
    "                handleSize: '80%',\n",
    "                handleStyle: {\n",
    "                    color: '#fff',\n",
    "                    shadowBlur: 3,\n",
    "                    shadowColor: 'rgba(0, 0, 0, 0.6)',\n",
    "                    shadowOffsetX: 2,\n",
    "                    shadowOffsetY: 2\n",
    "                }\n",
    "            }],\n",
    "            series: [\n",
    "                {\n",
    "                    name:'数量',\n",
    "                    type:'line',\n",
    "                    smooth:true,\n",
    "                    symbol: 'none',\n",
    "                    sampling: 'average',\n",
    "                    itemStyle: {\n",
    "                        color: 'rgb(255, 70, 131)'\n",
    "                    },\n",
    "                    data: \"\"\" + str(list(data_col_1)) + \"\"\"\n",
    "                }\n",
    "            ]\n",
    "        };\n",
    "        myChart.setOption(option);\n",
    "    });\n",
    "</script>\n",
    "\"\"\"\n",
    "# 显示图表\n",
    "HTML(html)"
   ]
  },
  {
   "cell_type": "markdown",
   "metadata": {},
   "source": [
    "**分析就暂时到这里结束了。花了几天的时间，不会的去百度一下，去Google一下，发现又涨了不少知识。实践是检验知识水平，动手能力的一个途径。**"
   ]
  },
  {
   "cell_type": "markdown",
   "metadata": {},
   "source": [
    "**再就是，本程序还有一些缺陷，比如没有使用多线程，因为做了多线程以后发现数据顺序比较混乱，所以直接舍弃了。比如没有使用 try/except 异常处理语句，没有改成面向对象的方式等等。这些有待于进一步的完善。**"
   ]
  },
  {
   "cell_type": "markdown",
   "metadata": {},
   "source": [
    "完"
   ]
  }
 ],
 "metadata": {
  "kernelspec": {
   "display_name": "Python 3",
   "language": "python",
   "name": "python3"
  },
  "language_info": {
   "codemirror_mode": {
    "name": "ipython",
    "version": 3
   },
   "file_extension": ".py",
   "mimetype": "text/x-python",
   "name": "python",
   "nbconvert_exporter": "python",
   "pygments_lexer": "ipython3",
   "version": "3.7.1"
  }
 },
 "nbformat": 4,
 "nbformat_minor": 2
}
